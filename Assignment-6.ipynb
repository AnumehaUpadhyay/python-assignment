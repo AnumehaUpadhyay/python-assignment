{
 "cells": [
  {
   "cell_type": "markdown",
   "metadata": {},
   "source": [
    "ques 1. Write a Python Program(with class concepts) to find the area of the triangle using the below formula.\n",
    "area = (s*(s-a)*(s-b)*(s-c)) ** 0.5\n",
    "Function to take the length of the sides of triangle from user should be defined in the parent\n",
    "class and function to calculate the area should be defined in subclass.\n"
   ]
  },
  {
   "cell_type": "code",
   "execution_count": 6,
   "metadata": {},
   "outputs": [],
   "source": [
    "class triangle:\n",
    "    def __init__(self, a, b, c):\n",
    "        self.a = float(a)\n",
    "        self.b = float(b)\n",
    "        self.c = float(c)"
   ]
  },
  {
   "cell_type": "code",
   "execution_count": 15,
   "metadata": {},
   "outputs": [
    {
     "name": "stdout",
     "output_type": "stream",
     "text": [
      "a = 7\n",
      "b = 9\n",
      "c = 4\n",
      "area of triangle is :  13.416407864998739\n"
     ]
    }
   ],
   "source": [
    "class area(triangle):\n",
    "    def __init__(self, a, b, c):\n",
    "        super().__init__( a, b, c)\n",
    "    def calculate_area(self):\n",
    "        s = (self.a + self.b + self.c) / 2\n",
    "        self.area = float((s * (s - self.a) * (s - self.b) * (s - self.c))) ** 0.5\n",
    "    def get_area(self):\n",
    "        return self.area     \n",
    "a, b, c = input(\"a = \"), input(\"b = \"), input(\"c = \")\n",
    "a = area(a, b, c)\n",
    "a.calculate_area()\n",
    "print(\"area of triangle is : \" , a.get_area())"
   ]
  },
  {
   "cell_type": "markdown",
   "metadata": {},
   "source": [
    "ques 2. Create a class Payslip having attributes basic Salary,hra, and ita.\n",
    "Create a class PaySlipDemo containing a method getHighestPF with takes a list of payslip objects\n",
    "and return the highest PF among the objects.\n",
    " PF should be 12% of basic salary"
   ]
  },
  {
   "cell_type": "code",
   "execution_count": 11,
   "metadata": {},
   "outputs": [
    {
     "name": "stdout",
     "output_type": "stream",
     "text": [
      "2\n",
      "10000\n",
      "2000\n",
      "1000\n",
      "50000\n",
      "2000\n",
      "1000\n",
      "6000.0\n"
     ]
    }
   ],
   "source": [
    "class paySlip:\n",
    "    def __init__(self,basicSalary,hra,ita):\n",
    "        self.basicSalary = basicSalary\n",
    "        self.hra = hra\n",
    "        self.ita = ita\n",
    "\n",
    "        \n",
    "        \n",
    "class paySlipDemo:\n",
    "    def __init__(self):\n",
    "        maxp = 0\n",
    "    def getHighestPF(self,paylist):\n",
    "        pfList = []\n",
    "        for i in paylist:\n",
    "            maxp = i.basicSalary * 0.12\n",
    "            pfList.append(maxp)\n",
    "        maxpf = max(pfList)\n",
    "        return print(maxpf)\n",
    "\n",
    "\n",
    "count = int(input())\n",
    "paylist = []\n",
    "for i in range(count):\n",
    "    basicSalary = int(input())\n",
    "    hra = int(input())\n",
    "    ita = int(input())\n",
    "    paylist.append(paySlip(basicSalary,hra,ita))\n",
    "paySlip = paySlipDemo().getHighestPF(paylist)"
   ]
  }
 ],
 "metadata": {
  "kernelspec": {
   "display_name": "Python 3",
   "language": "python",
   "name": "python3"
  },
  "language_info": {
   "codemirror_mode": {
    "name": "ipython",
    "version": 3
   },
   "file_extension": ".py",
   "mimetype": "text/x-python",
   "name": "python",
   "nbconvert_exporter": "python",
   "pygments_lexer": "ipython3",
   "version": "3.7.1"
  }
 },
 "nbformat": 4,
 "nbformat_minor": 2
}
