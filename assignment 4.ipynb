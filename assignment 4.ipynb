{
 "cells": [
  {
   "cell_type": "markdown",
   "metadata": {},
   "source": [
    "ques 1.1 : Write a Python Program to implement your own myreduce() function which works exactly\n",
    "like Python's built-in function reduce()\n"
   ]
  },
  {
   "cell_type": "code",
   "execution_count": 9,
   "metadata": {},
   "outputs": [],
   "source": [
    "def myreduce(af, s):\n",
    "    result = s[0]\n",
    "    for item in s[1:]:\n",
    "        result = af(result, item)\n",
    "    return result"
   ]
  },
  {
   "cell_type": "code",
   "execution_count": 56,
   "metadata": {},
   "outputs": [
    {
     "name": "stdout",
     "output_type": "stream",
     "text": [
      "44\n"
     ]
    }
   ],
   "source": [
    "def sum(x,y): return x + y\n",
    "print(str(myreduce(sum,[1,6,3,11,23])))"
   ]
  },
  {
   "cell_type": "markdown",
   "metadata": {},
   "source": [
    "ques 1.2 : Write a Python program to implement your own myfilter() function which works exactly\n",
    "like Python's built-in function filter()\n"
   ]
  },
  {
   "cell_type": "code",
   "execution_count": 54,
   "metadata": {},
   "outputs": [
    {
     "name": "stdout",
     "output_type": "stream",
     "text": [
      "18\n",
      "24\n",
      "32\n",
      "88\n",
      "66\n",
      "34\n",
      "56\n",
      "21\n"
     ]
    }
   ],
   "source": [
    "ages = [5,12,17,18,24,32,88,66,2,34,56,21]\n",
    "def myFunc(x):\n",
    "    if x < 18:\n",
    "        return False\n",
    "    else:\n",
    "        return True\n",
    "adults = myfilter(myFunc, ages)\n",
    "for x in adults:\n",
    "    print(x)"
   ]
  },
  {
   "cell_type": "markdown",
   "metadata": {},
   "source": [
    "ques 2 : Implement List comprehensions to produce the following lists.\n",
    "Write List comprehensions to produce the following Lists\n",
    "['A', 'C', 'A', 'D', 'G', 'I', ’L’, ‘ D’]\n",
    "['x', 'xx', 'xxx', 'xxxx', 'y', 'yy', 'yyy', 'yyyy', 'z', 'zz', 'zzz', 'zzzz']\n",
    "['x', 'y', 'z', 'xx', 'yy', 'zz', 'xxx', 'yyy', 'zzz', 'xxxx', 'yyyy', 'zzzz']\n",
    "[[2], [3], [4], [3], [4], [5], [4], [5], [6]] \n",
    "[[2, 3, 4, 5], [3, 4, 5, 6],[4, 5, 6, 7], [5, 6, 7, 8]]\n",
    "[(1, 1), (2, 1), (3, 1), (1, 2), (2, 2), (3, 2), (1, 3), (2, 3), (3, 3)]"
   ]
  },
  {
   "cell_type": "code",
   "execution_count": 20,
   "metadata": {},
   "outputs": [
    {
     "name": "stdout",
     "output_type": "stream",
     "text": [
      "['A', 'C', 'A', 'D', 'G', 'I', 'L', 'D']\n",
      "['x', 'xx', 'xxx', 'xxxx', 'y', 'yy', 'yyy', 'yyyy', 'z', 'zz', 'zzz', 'zzzz']\n",
      "['x', 'y', 'z', 'xx', 'yy', 'zz', 'xxx', 'yyy', 'zzz', 'xxxx', 'yyyy', 'zzzz']\n",
      "[[2], [3], [4], [3], [4], [5], [4], [5], [6]]\n",
      "[[2, 3, 4, 5], [3, 4, 5, 6], [4, 5, 6, 7], [5, 6, 7, 8]]\n",
      "[(1, 1), (2, 1), (3, 1), (1, 2), (2, 2), (3, 2), (1, 3), (2, 3), (3, 3)]\n"
     ]
    }
   ],
   "source": [
    "word = \"ACADGILD\"\n",
    "a = [ a for a in word ]\n",
    "print(str(a))\n",
    "\n",
    "l1 = ['x','y','z']\n",
    "r1 = [ i1*n1 for i1 in l1 for n1 in range(1,5)]\n",
    "print(str(r1))\n",
    "\n",
    "l2 = ['x','y','z']\n",
    "r2 = [ i2*n2 for n2 in range(1,5) for i2 in l2  ]\n",
    "print(str(r2))\n",
    "\n",
    "l3 = [2,3,4]\n",
    "r3 = [ [i3+n3] for i3 in l3 for n3 in range(0,3)]\n",
    "print(str(r3))\n",
    "\n",
    "l4 = [2,3,4,5]\n",
    "r4= [ [i4+n4 for i4 in l4] for n4 in range(0,4)  ]\n",
    "print(str(r4))\n",
    "\n",
    "l5=[1,2,3]\n",
    "r5 = [ (b,a) for a in l5 for b in l5]\n",
    "print(str(r5))\n"
   ]
  },
  {
   "cell_type": "markdown",
   "metadata": {},
   "source": [
    "ques 3 : Write a Python program using the function concept that maps a list of words into a list of integers representing the\n",
    "lengths of the corresponding words"
   ]
  },
  {
   "cell_type": "code",
   "execution_count": 21,
   "metadata": {},
   "outputs": [
    {
     "name": "stdout",
     "output_type": "stream",
     "text": [
      "list word into a list of int is : [7, 8, 6, 10, 5, 2, 5, 2, 20]\n"
     ]
    }
   ],
   "source": [
    "wl = [\"Anumeha\", \"upadhyay\", \"fourth\", \"assignment\", \"which\", \"is\" , \"based\" , \"on\", \"map ,lambda,function\"]\n",
    "def wlen(wl):\n",
    "    return list(map(lambda x: len(x), wl))\n",
    "print (\"list word into a list of int is : \" + str(wlen(wl)))\n"
   ]
  },
  {
   "cell_type": "code",
   "execution_count": null,
   "metadata": {},
   "outputs": [],
   "source": []
  }
 ],
 "metadata": {
  "kernelspec": {
   "display_name": "Python 3",
   "language": "python",
   "name": "python3"
  },
  "language_info": {
   "codemirror_mode": {
    "name": "ipython",
    "version": 3
   },
   "file_extension": ".py",
   "mimetype": "text/x-python",
   "name": "python",
   "nbconvert_exporter": "python",
   "pygments_lexer": "ipython3",
   "version": "3.7.1"
  }
 },
 "nbformat": 4,
 "nbformat_minor": 2
}
