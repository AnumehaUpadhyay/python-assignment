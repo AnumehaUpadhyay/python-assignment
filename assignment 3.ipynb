{
 "cells": [
  {
   "cell_type": "markdown",
   "metadata": {},
   "source": [
    " ques 1. Write a function filter_long_words() that takes a list of words and an integer n and returns the\n",
    "list of words that are longer than n.\n"
   ]
  },
  {
   "cell_type": "code",
   "execution_count": 5,
   "metadata": {},
   "outputs": [
    {
     "name": "stdout",
     "output_type": "stream",
     "text": [
      "['Three', 'Four', 'Five']\n"
     ]
    }
   ],
   "source": [
    "def filter_long_words(s,n):\n",
    "    l= []\n",
    "    for i in range(len(s)):\n",
    "        if len(s[i]) >n:\n",
    "            l.append(s[i])\n",
    "    return l\n",
    "s = ['One','Two','Three','Four','Five']\n",
    "n = 3\n",
    "print (str(filter_long_words(s,n)))"
   ]
  },
  {
   "cell_type": "markdown",
   "metadata": {},
   "source": [
    "ques 2. Write a Python function which takes a character (i.e. a string of length 1) and returns True if it is\n",
    "a vowel, False otherwise."
   ]
  },
  {
   "cell_type": "code",
   "execution_count": 22,
   "metadata": {},
   "outputs": [
    {
     "name": "stdout",
     "output_type": "stream",
     "text": [
      " d\n",
      "d is not a vowel\n"
     ]
    }
   ],
   "source": [
    "def vowel(char):\n",
    "    if (char=='a' or char=='A' or char=='e' or char=='E'\n",
    "       or char=='i' or char=='I' or char=='o' or char=='O'\n",
    "       or char=='u' or char=='U'):\n",
    "        print(char, \"is a vowel\")\n",
    "    else:\n",
    "        print(char, \"is not a vowel\")\n",
    "char=input(\" \")\n",
    "vowel(char)"
   ]
  },
  {
   "cell_type": "markdown",
   "metadata": {},
   "source": [
    " ques 3. Create a function palindrome_list() that takes list of strings as an argument, returns the list of\n",
    "strings which are only palindrome"
   ]
  },
  {
   "cell_type": "code",
   "execution_count": 2,
   "metadata": {},
   "outputs": [],
   "source": [
    "def palindrome_list(l):\n",
    "    res=[]\n",
    "    for i in l:\n",
    "        j=i.lower()\n",
    "        if(j==j[::-1]):\n",
    "            res.append(i)\n",
    "\n",
    "    return res\n",
    "\n",
    "      "
   ]
  },
  {
   "cell_type": "code",
   "execution_count": 4,
   "metadata": {},
   "outputs": [
    {
     "data": {
      "text/plain": [
       "['radar', 'madam', 'ada']"
      ]
     },
     "execution_count": 4,
     "metadata": {},
     "output_type": "execute_result"
    }
   ],
   "source": [
    "palindrome_list(['radar', 'madam', 'malyalam', 'ada'])"
   ]
  },
  {
   "cell_type": "code",
   "execution_count": null,
   "metadata": {},
   "outputs": [],
   "source": []
  }
 ],
 "metadata": {
  "kernelspec": {
   "display_name": "Python 3",
   "language": "python",
   "name": "python3"
  },
  "language_info": {
   "codemirror_mode": {
    "name": "ipython",
    "version": 3
   },
   "file_extension": ".py",
   "mimetype": "text/x-python",
   "name": "python",
   "nbconvert_exporter": "python",
   "pygments_lexer": "ipython3",
   "version": "3.7.1"
  }
 },
 "nbformat": 4,
 "nbformat_minor": 2
}
