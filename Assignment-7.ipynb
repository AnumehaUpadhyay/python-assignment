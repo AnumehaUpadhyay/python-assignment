{
 "cells": [
  {
   "cell_type": "markdown",
   "metadata": {},
   "source": [
    " ques 1. Write a function so that the columns of the output matrix are powers of the input\n",
    "vector.\n",
    "The order of the powers is determined by the increasing boolean argument. Specifically, when\n",
    "increasing is False, the i-th output column is the input vector raised element-wise to the power\n",
    "of N - i - 1."
   ]
  },
  {
   "cell_type": "code",
   "execution_count": 14,
   "metadata": {},
   "outputs": [
    {
     "name": "stdout",
     "output_type": "stream",
     "text": [
      "In decresing order :\n",
      " [[   1    1    1    1]\n",
      " [  27    9    3    1]\n",
      " [ 216   36    6    1]\n",
      " [ 729   81    9    1]\n",
      " [1728  144   12    1]\n",
      " [3375  225   15    1]] \n",
      "\n",
      "In increasing order :\n",
      " [[   1    1    1    1]\n",
      " [   1    3    9   27]\n",
      " [   1    6   36  216]\n",
      " [   1    9   81  729]\n",
      " [   1   12  144 1728]\n",
      " [   1   15  225 3375]] \n",
      "\n"
     ]
    }
   ],
   "source": [
    "import numpy as np\n",
    "def gen_vander_matrix(iv, n, increasing=False):\n",
    "    if not increasing:\n",
    "        om = np.array([x**(n-1-i) for x in iv for i in range(n)]).reshape(iv.size,n)\n",
    "    elif increasing:\n",
    "        om = np.array([x**i for x in iv for i in range(n)]).reshape(iv.size,n)\n",
    "    return om\n",
    "inputvector = np.array([1,3,6,9,12,15])\n",
    "ncol_om = 4\n",
    "om_dec_order = gen_vander_matrix(inputvector,ncol_om,False)\n",
    "om_inc_order = gen_vander_matrix(inputvector,ncol_om,True)\n",
    "print(\"In decresing order :\\n\" ,om_dec_order,\"\\n\")\n",
    "print(\"In increasing order :\\n\" ,om_inc_order,\"\\n\")"
   ]
  },
  {
   "cell_type": "markdown",
   "metadata": {},
   "source": [
    "ques 2. : Write a function to find moving average in an array over a window:\n",
    " Test it over [3, 5, 7, 2, 8, 10, 11, 65, 72, 81, 99, 100, 150] and window of 3."
   ]
  },
  {
   "cell_type": "code",
   "execution_count": 15,
   "metadata": {},
   "outputs": [],
   "source": [
    "def moveave(ml, N):\n",
    "    s, mov_av = [0], []\n",
    "    for i, x in enumerate(ml, 1):\n",
    "        s.append(s[i-1] + x)\n",
    "        if i>=N:\n",
    "            p = round(((s[i] - s[i-N])/N),2) \n",
    "            mov_av.append(p)\n",
    "    print( mov_av)"
   ]
  },
  {
   "cell_type": "code",
   "execution_count": 16,
   "metadata": {},
   "outputs": [
    {
     "name": "stdout",
     "output_type": "stream",
     "text": [
      "[5.0, 4.67, 5.67, 6.67, 9.67, 28.67, 49.33, 72.67, 84.0, 93.33, 116.33]\n"
     ]
    }
   ],
   "source": [
    "ml = [3, 5, 7, 2, 8, 10, 11, 65, 72, 81, 99, 100, 150]\n",
    "N = 3\n",
    "moveave(ml,N)"
   ]
  },
  {
   "cell_type": "code",
   "execution_count": null,
   "metadata": {},
   "outputs": [],
   "source": []
  }
 ],
 "metadata": {
  "kernelspec": {
   "display_name": "Python 3",
   "language": "python",
   "name": "python3"
  },
  "language_info": {
   "codemirror_mode": {
    "name": "ipython",
    "version": 3
   },
   "file_extension": ".py",
   "mimetype": "text/x-python",
   "name": "python",
   "nbconvert_exporter": "python",
   "pygments_lexer": "ipython3",
   "version": "3.7.1"
  }
 },
 "nbformat": 4,
 "nbformat_minor": 2
}
